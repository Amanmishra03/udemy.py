{
 "cells": [
  {
   "cell_type": "code",
   "execution_count": 1,
   "metadata": {},
   "outputs": [
    {
     "name": "stdout",
     "output_type": "stream",
     "text": [
      "<class 'pandas.core.frame.DataFrame'>\n",
      "0    12\n",
      "1    14\n",
      "2    15\n",
      "3    14\n",
      "4    21\n",
      "5    22\n",
      "6    24\n",
      "Name: temp, dtype: int64\n",
      "  students  scores\n",
      "0      any      76\n",
      "1    james      56\n",
      "2   angela      65\n"
     ]
    }
   ],
   "source": [
    "import pandas\n",
    "data = pandas.read_csv(\"weather_data.csv\")\n",
    "print(type(data))\n",
    "print(data[\"temp\"])\n",
    "# whole table is a dataframe and a single column is known as series\n",
    "# data_dict = data.to_dict()\n",
    "# print(data_dict)\n",
    "\n",
    "# create a dataframe from scratch\n",
    "data_dict = {\n",
    "    \"students\": [\"any\", \"james\", \"angela\"],\n",
    "    \"scores\": [76, 56, 65]\n",
    "}\n",
    "data = pandas.DataFrame(data_dict)\n",
    "print(data)\n",
    "data.to_csv(\"new_data.csv\")"
   ]
  }
 ],
 "metadata": {
  "kernelspec": {
   "display_name": "base",
   "language": "python",
   "name": "python3"
  },
  "language_info": {
   "codemirror_mode": {
    "name": "ipython",
    "version": 3
   },
   "file_extension": ".py",
   "mimetype": "text/x-python",
   "name": "python",
   "nbconvert_exporter": "python",
   "pygments_lexer": "ipython3",
   "version": "3.11.4"
  },
  "orig_nbformat": 4
 },
 "nbformat": 4,
 "nbformat_minor": 2
}
