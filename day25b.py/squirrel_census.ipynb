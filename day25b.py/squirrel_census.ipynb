{
 "cells": [
  {
   "cell_type": "code",
   "execution_count": 1,
   "metadata": {},
   "outputs": [
    {
     "name": "stdout",
     "output_type": "stream",
     "text": [
      "2473\n",
      "392\n",
      "103\n",
      "{'Fur Color': ['Gray', 'Cinnamon', 'Black'], 'Count': [2473, 392, 103]}\n"
     ]
    }
   ],
   "source": [
    "import pandas\n",
    "data = pandas.read_csv(\"2018_Central_Park_Squirrel_Census_-_Squirrel_Data.csv\")\n",
    "# print(data)\n",
    "# data_dict = data.to_dict()\n",
    "# gray_squirrel = data[data[\"Primary Fur Color\"] == \"Gray\"]\n",
    "# print(gray_squirrel)\n",
    "\n",
    "gray_squirrel_count = len(data[data[\"Primary Fur Color\"] == \"Gray\"])\n",
    "print(gray_squirrel_count)\n",
    "\n",
    "red_squirrel_count = len(data[data[\"Primary Fur Color\"] == \"Cinnamon\"])\n",
    "print(red_squirrel_count)\n",
    "\n",
    "Black_squirrel_count = len(data[data[\"Primary Fur Color\"] == \"Black\"])\n",
    "print(Black_squirrel_count)\n",
    "\n",
    "data_dict = {\n",
    "    \"Fur Color\": [\"Gray\", \"Cinnamon\", \"Black\"],\n",
    "    \"Count\": [gray_squirrel_count, red_squirrel_count, Black_squirrel_count]\n",
    "}\n",
    "print(data_dict)\n",
    "# df = pandas.DataFrame(data_dict)\n",
    "# df.to_csv(\"squirrel_count.csv\")"
   ]
  },
  {
   "cell_type": "code",
   "execution_count": null,
   "metadata": {},
   "outputs": [],
   "source": []
  }
 ],
 "metadata": {
  "kernelspec": {
   "display_name": "base",
   "language": "python",
   "name": "python3"
  },
  "language_info": {
   "codemirror_mode": {
    "name": "ipython",
    "version": 3
   },
   "file_extension": ".py",
   "mimetype": "text/x-python",
   "name": "python",
   "nbconvert_exporter": "python",
   "pygments_lexer": "ipython3",
   "version": "3.11.4"
  },
  "orig_nbformat": 4
 },
 "nbformat": 4,
 "nbformat_minor": 2
}
