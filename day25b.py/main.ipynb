{
 "cells": [
  {
   "cell_type": "code",
   "execution_count": 1,
   "metadata": {},
   "outputs": [
    {
     "name": "stdout",
     "output_type": "stream",
     "text": [
      "7\n"
     ]
    }
   ],
   "source": [
    "import pandas\n",
    "\n",
    "data = pandas.read_csv(\"weather_data.csv\")\n",
    "# print(data)\n",
    "# print(type(data))\n",
    "# print(data[\"temp\"])\n",
    "# data_dict = data.to_dict()\n",
    "# print(data_dict)\n",
    "#\n",
    "temp_list = data[\"temp\"].to_list()\n",
    "# print(temp_list)\n",
    "print(len(temp_list))\n",
    "#\n",
    "# # for average of temperature\n",
    "# avg = sum(temp_list)/len(temp_list)\n",
    "# print(avg)\n",
    "# print(data[\"temp\"].mean())\n",
    "#\n",
    "# # for max temp\n",
    "# print(data[\"temp\"].max())\n",
    "#\n",
    "# # get data in column\n",
    "# print(data[\"condition\"])\n",
    "# print(data.condition)\n",
    "\n",
    "# get data in row\n",
    "# print(data[data.day == \"Monday\"])\n",
    "\n",
    "# get the row where temp is max\n",
    "# print(data[data.temp == data.temp.max()])\n",
    "\n",
    "# monday = data[data.day == \"Monday\"]\n",
    "# print(monday.condition)\n",
    "# monday_temp = monday.temp\n",
    "# print(monday_temp)\n",
    "# monday_temp_f = monday_temp * 9/5 + 32\n",
    "# print(monday_temp_f)"
   ]
  },
  {
   "cell_type": "code",
   "execution_count": null,
   "metadata": {},
   "outputs": [],
   "source": []
  }
 ],
 "metadata": {
  "kernelspec": {
   "display_name": "base",
   "language": "python",
   "name": "python3"
  },
  "language_info": {
   "codemirror_mode": {
    "name": "ipython",
    "version": 3
   },
   "file_extension": ".py",
   "mimetype": "text/x-python",
   "name": "python",
   "nbconvert_exporter": "python",
   "pygments_lexer": "ipython3",
   "version": "3.11.4"
  },
  "orig_nbformat": 4
 },
 "nbformat": 4,
 "nbformat_minor": 2
}
